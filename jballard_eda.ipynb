{
 "cells": [
  {
   "cell_type": "code",
   "execution_count": 1,
   "id": "e88c9469-786d-4d5d-8c10-276de670fbbc",
   "metadata": {},
   "outputs": [
    {
     "data": {
      "text/plain": [
       "'Module 4 project'"
      ]
     },
     "execution_count": 1,
     "metadata": {},
     "output_type": "execute_result"
    }
   ],
   "source": [
    "\"\"\"Module 4 project\"\"\""
   ]
  },
  {
   "cell_type": "code",
   "execution_count": 2,
   "id": "06f13bbd-aaa9-461f-8534-a2bd560c0d5c",
   "metadata": {},
   "outputs": [
    {
     "name": "stderr",
     "output_type": "stream",
     "text": [
      "C:\\Users\\balla\\AppData\\Local\\Temp\\ipykernel_2392\\1482613678.py:3: DeprecationWarning: \n",
      "Pyarrow will become a required dependency of pandas in the next major release of pandas (pandas 3.0),\n",
      "(to allow more performant data types, such as the Arrow string type, and better interoperability with other libraries)\n",
      "but was not found to be installed on your system.\n",
      "If this would cause problems for you,\n",
      "please provide us feedback at https://github.com/pandas-dev/pandas/issues/54466\n",
      "        \n",
      "  import pandas as pd\n"
     ]
    }
   ],
   "source": [
    "# import dependencies\n",
    "import matplotlib.pyplot as plt\n",
    "import pandas as pd\n",
    "import seaborn as sns"
   ]
  },
  {
   "cell_type": "code",
   "execution_count": 3,
   "id": "0082ae15-2189-436a-b3d0-d6e8795ab2ce",
   "metadata": {},
   "outputs": [
    {
     "name": "stdout",
     "output_type": "stream",
     "text": [
      "   sepal_length  sepal_width  petal_length  petal_width species\n",
      "0           5.1          3.5           1.4          0.2  setosa\n",
      "1           4.9          3.0           1.4          0.2  setosa\n",
      "2           4.7          3.2           1.3          0.2  setosa\n",
      "3           4.6          3.1           1.5          0.2  setosa\n",
      "4           5.0          3.6           1.4          0.2  setosa\n"
     ]
    }
   ],
   "source": [
    "#load the Iris dataset into a Dataframe\n",
    "df = sns.load_dataset('iris')\n",
    "\n",
    "#inspect first rows of the Dataframe- this is 5 rows()\n",
    "print(df.head())"
   ]
  },
  {
   "cell_type": "code",
   "execution_count": 4,
   "id": "8efc4fcc-6c19-4211-a6bb-920b5186be9f",
   "metadata": {},
   "outputs": [
    {
     "name": "stdout",
     "output_type": "stream",
     "text": [
      "   sepal_length  sepal_width  petal_length  petal_width species\n",
      "0           5.1          3.5           1.4          0.2  setosa\n",
      "1           4.9          3.0           1.4          0.2  setosa\n",
      "2           4.7          3.2           1.3          0.2  setosa\n",
      "3           4.6          3.1           1.5          0.2  setosa\n",
      "4           5.0          3.6           1.4          0.2  setosa\n",
      "5           5.4          3.9           1.7          0.4  setosa\n",
      "6           4.6          3.4           1.4          0.3  setosa\n",
      "7           5.0          3.4           1.5          0.2  setosa\n",
      "8           4.4          2.9           1.4          0.2  setosa\n",
      "9           4.9          3.1           1.5          0.1  setosa\n"
     ]
    }
   ],
   "source": [
    "# print the first 10 rows of data\n",
    "print(df.head(10))"
   ]
  },
  {
   "cell_type": "code",
   "execution_count": 5,
   "id": "bd8655b8-64fc-43ae-b64b-347ad0c41f78",
   "metadata": {},
   "outputs": [
    {
     "name": "stdout",
     "output_type": "stream",
     "text": [
      "(150, 5)\n",
      "sepal_length    float64\n",
      "sepal_width     float64\n",
      "petal_length    float64\n",
      "petal_width     float64\n",
      "species          object\n",
      "dtype: object\n"
     ]
    }
   ],
   "source": [
    "# determine dataframe shape\n",
    "print(df.shape)\n",
    "# what data types are in the dataframe\n",
    "print(df.dtypes)"
   ]
  },
  {
   "cell_type": "code",
   "execution_count": 6,
   "id": "0aae032d-8919-4c37-bd20-30cbd8adc607",
   "metadata": {},
   "outputs": [
    {
     "name": "stdout",
     "output_type": "stream",
     "text": [
      "       sepal_length  sepal_width  petal_length  petal_width\n",
      "count    150.000000   150.000000    150.000000   150.000000\n",
      "mean       5.843333     3.057333      3.758000     1.199333\n",
      "std        0.828066     0.435866      1.765298     0.762238\n",
      "min        4.300000     2.000000      1.000000     0.100000\n",
      "25%        5.100000     2.800000      1.600000     0.300000\n",
      "50%        5.800000     3.000000      4.350000     1.300000\n",
      "75%        6.400000     3.300000      5.100000     1.800000\n",
      "max        7.900000     4.400000      6.900000     2.500000\n"
     ]
    }
   ],
   "source": [
    "# conduct descriptive analysis of the dataframe\n",
    "print(df.describe())"
   ]
  },
  {
   "cell_type": "code",
   "execution_count": null,
   "id": "55d0febb-2bdb-4679-832a-6e82c5cfc1ce",
   "metadata": {},
   "outputs": [],
   "source": [
    "# present histograms of the numeric columns\n",
    "df['sepal_length'].hist()\n",
    "df['sepal_width'].hist()\n",
    "df['petal_length'].hist()\n",
    "df['petal_width'].hist()\n",
    "\n",
    "# save the plot as a PNG file\n",
    "plt.savefig('images/histogram.png')"
   ]
  },
  {
   "cell_type": "code",
   "execution_count": null,
   "id": "10324ead-c2c3-4779-8586-4b73d6992582",
   "metadata": {},
   "outputs": [],
   "source": [
    "# inspect histograms for all numerical columns\n",
    "df.hist()\n",
    "# show all plots\n",
    "plt.show()\n",
    "\n",
    "# save the plot as a PNG file\n",
    "plt.savefig('images/Sep_histogram.png')"
   ]
  },
  {
   "cell_type": "code",
   "execution_count": null,
   "id": "1bf05dd8-c59f-4394-b6ff-29527247bb37",
   "metadata": {},
   "outputs": [],
   "source": [
    "# Inspect value counts by categorical column\n",
    "df['species'].value_counts()\n",
    "\n",
    "# Inspect value counts for all categorical columns\n",
    "for col in df.select_dtypes(include=['object', 'category']).columns:\n",
    "    # Display count plot\n",
    "    sns.countplot(x=col, data=df)\n",
    "    plt.title(f'Distribution of {col}')\n",
    "    plt.show()\n",
    "\n",
    "# Show all plots\n",
    "plt.show()"
   ]
  },
  {
   "cell_type": "code",
   "execution_count": null,
   "id": "095d2a30-ab09-47cc-8366-b9b802185f59",
   "metadata": {},
   "outputs": [],
   "source": [
    "# Renaming a column\n",
    "df.rename(columns={'sepal_length': 'Sepal Length'}, inplace=True)\n",
    "\n",
    "# Adding a new column\n",
    "df['Sepal Area'] = df['Sepal Length'] * df['sepal_width']"
   ]
  },
  {
   "cell_type": "code",
   "execution_count": null,
   "id": "a873f720-30b0-4a84-8c95-4cea01dd5b09",
   "metadata": {},
   "outputs": [],
   "source": [
    "sns.pairplot(df, hue='species')\n",
    "plt.show()"
   ]
  },
  {
   "cell_type": "code",
   "execution_count": null,
   "id": "b34799f9-aaea-4f6c-9e87-343a39bc6e32",
   "metadata": {},
   "outputs": [],
   "source": [
    "# Save the plot as a PNG file\n",
    "plt.savefig('images/species_pairplot.png')"
   ]
  },
  {
   "cell_type": "code",
   "execution_count": null,
   "id": "46e0edc0-ba11-44e8-8069-6954bea6d353",
   "metadata": {},
   "outputs": [],
   "source": []
  }
 ],
 "metadata": {
  "kernelspec": {
   "display_name": "Python 3 (ipykernel)",
   "language": "python",
   "name": "python3"
  },
  "language_info": {
   "codemirror_mode": {
    "name": "ipython",
    "version": 3
   },
   "file_extension": ".py",
   "mimetype": "text/x-python",
   "name": "python",
   "nbconvert_exporter": "python",
   "pygments_lexer": "ipython3",
   "version": "3.12.1"
  }
 },
 "nbformat": 4,
 "nbformat_minor": 5
}
